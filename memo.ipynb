{
 "cells": [
  {
   "cell_type": "code",
   "execution_count": 1,
   "metadata": {},
   "outputs": [
    {
     "name": "stdout",
     "output_type": "stream",
     "text": [
      "0.01229147678576643\n"
     ]
    }
   ],
   "source": [
    "i = 0.012\n",
    "n = 5\n",
    "\n",
    "rimawari = ((1 + i)**n - 1)/5\n",
    "print(rimawari)"
   ]
  },
  {
   "cell_type": "code",
   "execution_count": 7,
   "metadata": {},
   "outputs": [
    {
     "name": "stdout",
     "output_type": "stream",
     "text": [
      "1年目　40.0円　40.0円\n",
      "2年目　39.56478733926806円　79.56478733926807円\n",
      "3年目　39.134309930037645円　118.69909726930571円\n",
      "4年目　38.70851625127364円　157.40761352057936円\n",
      "5年目　38.287355342506075円　195.69496886308542円\n",
      "6年目　37.87077679773104円　233.56574566081645円\n",
      "7年目　37.458730759377886円　271.02447642019433円\n"
     ]
    }
   ],
   "source": [
    "P = 40\n",
    "n = 7\n",
    "i = 0.011\n",
    "sum = 0\n",
    "\n",
    "for year in range(7):\n",
    "    S = P / (1 + i)**year\n",
    "    sum += S\n",
    "    print(f'{year+1}年目　{S}円　{sum}円')"
   ]
  },
  {
   "cell_type": "code",
   "execution_count": 10,
   "metadata": {},
   "outputs": [
    {
     "data": {
      "text/plain": [
       "1.0227705287942708"
      ]
     },
     "execution_count": 10,
     "metadata": {},
     "output_type": "execute_result"
    }
   ],
   "source": [
    "times = [i + 0.5 for i in range(5)]\n",
    "D = [25.888, 10.1008, 3.4515, 1.0162, 0.3155]\n",
    "l = 40.772\n",
    "sum = 0\n",
    "\n",
    "for i in range(5):\n",
    "    sum += times[i] * D[i] / l\n",
    "\n",
    "sum"
   ]
  },
  {
   "cell_type": "code",
   "execution_count": 13,
   "metadata": {},
   "outputs": [
    {
     "data": {
      "text/plain": [
       "9793.370036600745"
      ]
     },
     "execution_count": 13,
     "metadata": {},
     "output_type": "execute_result"
    }
   ],
   "source": [
    "5000000 * 192 * 0.995037/97539"
   ]
  },
  {
   "cell_type": "code",
   "execution_count": 15,
   "metadata": {},
   "outputs": [
    {
     "data": {
      "text/plain": [
       "3335426731.0000005"
      ]
     },
     "execution_count": 15,
     "metadata": {},
     "output_type": "execute_result"
    }
   ],
   "source": [
    "B = 7000000\n",
    "d = [87, 92, 98, 102, 110]\n",
    "a = [0.995037, 0.985185, 0.975431, 0.965773, 0.956211]\n",
    "\n",
    "sum = 0\n",
    "\n",
    "for i in range(5):\n",
    "    sum += d[i] * a[i]\n",
    "\n",
    "sum * B"
   ]
  },
  {
   "cell_type": "code",
   "execution_count": 28,
   "metadata": {},
   "outputs": [
    {
     "data": {
      "text/plain": [
       "654563889098.0"
      ]
     },
     "execution_count": 28,
     "metadata": {},
     "output_type": "execute_result"
    }
   ],
   "source": [
    "7000000 * 98279 * 0.951466"
   ]
  },
  {
   "cell_type": "code",
   "execution_count": 26,
   "metadata": {},
   "outputs": [
    {
     "data": {
      "text/plain": [
       "17284400000.0"
      ]
     },
     "execution_count": 26,
     "metadata": {},
     "output_type": "execute_result"
    }
   ],
   "source": [
    "7000000 * 98768 * 25 / 1000"
   ]
  },
  {
   "cell_type": "code",
   "execution_count": 35,
   "metadata": {},
   "outputs": [
    {
     "name": "stdout",
     "output_type": "stream",
     "text": [
      "98768\n",
      "97703.95941899999\n",
      "96647.38264\n",
      "95595.35028\n",
      "94550.8222\n"
     ]
    },
    {
     "data": {
      "text/plain": [
       "483265.514539"
      ]
     },
     "execution_count": 35,
     "metadata": {},
     "output_type": "execute_result"
    }
   ],
   "source": [
    "l = [98768, 98681, 98590, 98492, 98390]\n",
    "a = [1, 0.990099, 0.980296, 0.970590, 0.960980]\n",
    "sum = 0\n",
    "\n",
    "for i in range(5):\n",
    "    s = l[i] * a[i]\n",
    "    sum += s\n",
    "    print(s)\n",
    "sum"
   ]
  },
  {
   "cell_type": "code",
   "execution_count": 37,
   "metadata": {},
   "outputs": [
    {
     "data": {
      "text/plain": [
       "1397129.3510372157"
      ]
     },
     "execution_count": 37,
     "metadata": {},
     "output_type": "execute_result"
    }
   ],
   "source": [
    "(3335426731 + 654563889098 + 17284400000) / 483265"
   ]
  },
  {
   "cell_type": "code",
   "execution_count": null,
   "metadata": {},
   "outputs": [],
   "source": []
  }
 ],
 "metadata": {
  "kernelspec": {
   "display_name": "Takizawa-env",
   "language": "python",
   "name": "python3"
  },
  "language_info": {
   "codemirror_mode": {
    "name": "ipython",
    "version": 3
   },
   "file_extension": ".py",
   "mimetype": "text/x-python",
   "name": "python",
   "nbconvert_exporter": "python",
   "pygments_lexer": "ipython3",
   "version": "3.12.5"
  }
 },
 "nbformat": 4,
 "nbformat_minor": 2
}
